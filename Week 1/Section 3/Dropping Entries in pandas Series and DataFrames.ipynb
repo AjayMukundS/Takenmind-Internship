{
 "cells": [
  {
   "cell_type": "code",
   "execution_count": 1,
   "metadata": {},
   "outputs": [],
   "source": [
    "#Agenda\n",
    "#Drop values from Series\n",
    "#Drop Rows from DataFrame\n",
    "#Drop Columns from DataFrame"
   ]
  },
  {
   "cell_type": "code",
   "execution_count": 2,
   "metadata": {},
   "outputs": [],
   "source": [
    "import numpy as np\n",
    "import pandas as pd\n",
    "from pandas import Series, DataFrame"
   ]
  },
  {
   "cell_type": "code",
   "execution_count": 3,
   "metadata": {},
   "outputs": [
    {
     "name": "stdout",
     "output_type": "stream",
     "text": [
      "a         BMW\n",
      "b        Audi\n",
      "c    Mercedes\n",
      "dtype: object\n"
     ]
    }
   ],
   "source": [
    "#Drop values from Series\n",
    "cars= Series([\"BMW\",\"Audi\",\"Mercedes\"], index= ['a','b','c'])\n",
    "print(cars)"
   ]
  },
  {
   "cell_type": "code",
   "execution_count": 4,
   "metadata": {},
   "outputs": [
    {
     "name": "stdout",
     "output_type": "stream",
     "text": [
      "b        Audi\n",
      "c    Mercedes\n",
      "dtype: object\n"
     ]
    }
   ],
   "source": [
    "cars= cars.drop('a')\n",
    "print(cars)"
   ]
  },
  {
   "cell_type": "code",
   "execution_count": 5,
   "metadata": {},
   "outputs": [
    {
     "name": "stdout",
     "output_type": "stream",
     "text": [
      "             test1     test2     test3\n",
      "BMW       1.274389  0.172187 -0.331831\n",
      "Audi     -1.134630  0.375081  1.041748\n",
      "Mercedes -1.311203 -0.422038 -0.274785\n"
     ]
    }
   ],
   "source": [
    "#Drop Rows from DataFrame\n",
    "#Drop Columns from DataFrame\n",
    "cars_df= DataFrame(np.random.randn(9).reshape(3,3), index= [\"BMW\",\"Audi\",\"Mercedes\"], columns= ['test1','test2','test3'])\n",
    "print(cars_df)"
   ]
  },
  {
   "cell_type": "code",
   "execution_count": 6,
   "metadata": {},
   "outputs": [
    {
     "name": "stdout",
     "output_type": "stream",
     "text": [
      "             test1     test2     test3\n",
      "Audi     -1.134630  0.375081  1.041748\n",
      "Mercedes -1.311203 -0.422038 -0.274785\n"
     ]
    }
   ],
   "source": [
    "cars_df= cars_df.drop(\"BMW\", axis=  0)\n",
    "print(cars_df)"
   ]
  },
  {
   "cell_type": "code",
   "execution_count": 7,
   "metadata": {},
   "outputs": [
    {
     "name": "stdout",
     "output_type": "stream",
     "text": [
      "             test2     test3\n",
      "Audi      0.375081  1.041748\n",
      "Mercedes -0.422038 -0.274785\n"
     ]
    }
   ],
   "source": [
    "cars_df= cars_df.drop('test1', axis= 1)\n",
    "print(cars_df)"
   ]
  }
 ],
 "metadata": {
  "kernelspec": {
   "display_name": "Python 3",
   "language": "python",
   "name": "python3"
  },
  "language_info": {
   "codemirror_mode": {
    "name": "ipython",
    "version": 3
   },
   "file_extension": ".py",
   "mimetype": "text/x-python",
   "name": "python",
   "nbconvert_exporter": "python",
   "pygments_lexer": "ipython3",
   "version": "3.8.2"
  }
 },
 "nbformat": 4,
 "nbformat_minor": 4
}
