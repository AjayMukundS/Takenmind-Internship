{
 "cells": [
  {
   "cell_type": "code",
   "execution_count": 1,
   "metadata": {},
   "outputs": [],
   "source": [
    "#Agenda\n",
    "#What is Pandas\n",
    "#What is Series\n",
    "#Install Pandas\n",
    "#Create a simple series variable\n",
    "#Create series from numpy\n",
    "#Create series with custom indexes\n",
    "#Filter a Series based on conditions\n",
    "#Check whether an element is in a series\n",
    "#to_dict() function\n",
    "#Addition of 2 series\n",
    "#Assign names to a Series and its Index"
   ]
  },
  {
   "cell_type": "code",
   "execution_count": 2,
   "metadata": {},
   "outputs": [],
   "source": [
    "import numpy as np\n",
    "import pandas as pd"
   ]
  },
  {
   "cell_type": "code",
   "execution_count": 3,
   "metadata": {},
   "outputs": [],
   "source": [
    "#What is Pandas\n",
    "#What is Series\n",
    "from pandas import Series"
   ]
  },
  {
   "cell_type": "code",
   "execution_count": 4,
   "metadata": {},
   "outputs": [
    {
     "name": "stdout",
     "output_type": "stream",
     "text": [
      "0     5\n",
      "1    10\n",
      "2    15\n",
      "3    20\n",
      "dtype: int64\n"
     ]
    }
   ],
   "source": [
    "#Create a simple series variable\n",
    "s1= Series([5,10,15,20])\n",
    "print(s1)"
   ]
  },
  {
   "cell_type": "code",
   "execution_count": 5,
   "metadata": {},
   "outputs": [
    {
     "name": "stdout",
     "output_type": "stream",
     "text": [
      "[ 5 10 15 20]\n"
     ]
    }
   ],
   "source": [
    "print(s1.values)"
   ]
  },
  {
   "cell_type": "code",
   "execution_count": 6,
   "metadata": {},
   "outputs": [
    {
     "name": "stdout",
     "output_type": "stream",
     "text": [
      "[0 1 2 3]\n"
     ]
    }
   ],
   "source": [
    "print(s1.index.values)"
   ]
  },
  {
   "cell_type": "code",
   "execution_count": 7,
   "metadata": {},
   "outputs": [
    {
     "name": "stdout",
     "output_type": "stream",
     "text": [
      "[400 300 200 100]\n"
     ]
    }
   ],
   "source": [
    "#Create series from numpy\n",
    "revenue_array= np.array([400,300,200,100])\n",
    "print(revenue_array)"
   ]
  },
  {
   "cell_type": "code",
   "execution_count": 8,
   "metadata": {},
   "outputs": [
    {
     "name": "stdout",
     "output_type": "stream",
     "text": [
      "0    400\n",
      "1    300\n",
      "2    200\n",
      "3    100\n",
      "dtype: int32\n"
     ]
    }
   ],
   "source": [
    "revenue_series= Series(revenue_array)\n",
    "print(revenue_series)"
   ]
  },
  {
   "cell_type": "code",
   "execution_count": 9,
   "metadata": {},
   "outputs": [
    {
     "name": "stdout",
     "output_type": "stream",
     "text": [
      "uber     400\n",
      "ola      300\n",
      "lyft     200\n",
      "gojek    100\n",
      "dtype: int32\n"
     ]
    }
   ],
   "source": [
    "#Create series with custom indexes\n",
    "revenue= Series(revenue_array,index=[\"uber\", \"ola\", \"lyft\", \"gojek\"])\n",
    "print(revenue)"
   ]
  },
  {
   "cell_type": "code",
   "execution_count": 10,
   "metadata": {},
   "outputs": [
    {
     "data": {
      "text/plain": [
       "300"
      ]
     },
     "execution_count": 10,
     "metadata": {},
     "output_type": "execute_result"
    }
   ],
   "source": [
    "revenue[\"ola\"]"
   ]
  },
  {
   "cell_type": "code",
   "execution_count": 11,
   "metadata": {},
   "outputs": [
    {
     "data": {
      "text/plain": [
       "100"
      ]
     },
     "execution_count": 11,
     "metadata": {},
     "output_type": "execute_result"
    }
   ],
   "source": [
    "revenue[\"gojek\"]"
   ]
  },
  {
   "cell_type": "code",
   "execution_count": 12,
   "metadata": {},
   "outputs": [
    {
     "name": "stdout",
     "output_type": "stream",
     "text": [
      "uber    400\n",
      "ola     300\n",
      "dtype: int32\n"
     ]
    }
   ],
   "source": [
    "#Filter a Series based on conditions\n",
    "print(revenue[revenue > 250])"
   ]
  },
  {
   "cell_type": "code",
   "execution_count": 13,
   "metadata": {},
   "outputs": [
    {
     "name": "stdout",
     "output_type": "stream",
     "text": [
      "True\n"
     ]
    }
   ],
   "source": [
    "#Check whether an element is in a series\n",
    "print(\"ola\" in revenue)"
   ]
  },
  {
   "cell_type": "code",
   "execution_count": 14,
   "metadata": {},
   "outputs": [
    {
     "name": "stdout",
     "output_type": "stream",
     "text": [
      "False\n"
     ]
    }
   ],
   "source": [
    "print(\"grab\" in revenue)"
   ]
  },
  {
   "cell_type": "code",
   "execution_count": 15,
   "metadata": {},
   "outputs": [
    {
     "name": "stdout",
     "output_type": "stream",
     "text": [
      "{'uber': 400, 'ola': 300, 'lyft': 200, 'gojek': 100}\n"
     ]
    }
   ],
   "source": [
    "#to_dict() function\n",
    "revenue_dict= revenue.to_dict()\n",
    "print(revenue_dict)"
   ]
  },
  {
   "cell_type": "code",
   "execution_count": 16,
   "metadata": {},
   "outputs": [
    {
     "name": "stdout",
     "output_type": "stream",
     "text": [
      "uber     400\n",
      "ola      300\n",
      "lyft     200\n",
      "gojek    100\n",
      "dtype: int32\n",
      "uber     800\n",
      "ola      600\n",
      "lyft     400\n",
      "gojek    200\n",
      "dtype: int32\n"
     ]
    }
   ],
   "source": [
    "#Addition of 2 series\n",
    "print(revenue)\n",
    "print(revenue + revenue)"
   ]
  },
  {
   "cell_type": "code",
   "execution_count": 17,
   "metadata": {},
   "outputs": [
    {
     "name": "stdout",
     "output_type": "stream",
     "text": [
      "uber     400\n",
      "ola      300\n",
      "lyft     200\n",
      "gojek    100\n",
      "Name: Company- Revenue, dtype: int32\n"
     ]
    }
   ],
   "source": [
    "#Assign names to a Series and its Index\n",
    "revenue.name= \"Company- Revenue\"\n",
    "print(revenue)"
   ]
  },
  {
   "cell_type": "code",
   "execution_count": 18,
   "metadata": {},
   "outputs": [
    {
     "name": "stdout",
     "output_type": "stream",
     "text": [
      "Company Name\n",
      "uber     400\n",
      "ola      300\n",
      "lyft     200\n",
      "gojek    100\n",
      "Name: Company- Revenue, dtype: int32\n"
     ]
    }
   ],
   "source": [
    "revenue.index.name= \"Company Name\"\n",
    "print(revenue)"
   ]
  }
 ],
 "metadata": {
  "kernelspec": {
   "display_name": "Python 3",
   "language": "python",
   "name": "python3"
  },
  "language_info": {
   "codemirror_mode": {
    "name": "ipython",
    "version": 3
   },
   "file_extension": ".py",
   "mimetype": "text/x-python",
   "name": "python",
   "nbconvert_exporter": "python",
   "pygments_lexer": "ipython3",
   "version": "3.8.2"
  }
 },
 "nbformat": 4,
 "nbformat_minor": 4
}
