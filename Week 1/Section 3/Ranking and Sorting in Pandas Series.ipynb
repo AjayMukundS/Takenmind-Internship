{
 "cells": [
  {
   "cell_type": "code",
   "execution_count": 1,
   "metadata": {},
   "outputs": [],
   "source": [
    "#Agenda\n",
    "#Sorting by Index\n",
    "#Sorting by Values\n",
    "#Ranking of Series\n",
    "#Interesting fact- Sorting uses ranking function"
   ]
  },
  {
   "cell_type": "code",
   "execution_count": 2,
   "metadata": {},
   "outputs": [],
   "source": [
    "import numpy as np\n",
    "import pandas as pd\n",
    "from pandas import Series, DataFrame"
   ]
  },
  {
   "cell_type": "code",
   "execution_count": 3,
   "metadata": {},
   "outputs": [
    {
     "name": "stdout",
     "output_type": "stream",
     "text": [
      "a    500\n",
      "c    600\n",
      "b    550\n",
      "dtype: int64\n"
     ]
    }
   ],
   "source": [
    "ser1= Series([500,600,550], index= ['a', 'c','b'])\n",
    "print(ser1)"
   ]
  },
  {
   "cell_type": "code",
   "execution_count": 4,
   "metadata": {},
   "outputs": [
    {
     "data": {
      "text/plain": [
       "a    500\n",
       "b    550\n",
       "c    600\n",
       "dtype: int64"
      ]
     },
     "execution_count": 4,
     "metadata": {},
     "output_type": "execute_result"
    }
   ],
   "source": [
    "#Sorting by Index\n",
    "ser1.sort_index()"
   ]
  },
  {
   "cell_type": "code",
   "execution_count": 5,
   "metadata": {},
   "outputs": [
    {
     "data": {
      "text/plain": [
       "a    500\n",
       "b    550\n",
       "c    600\n",
       "dtype: int64"
      ]
     },
     "execution_count": 5,
     "metadata": {},
     "output_type": "execute_result"
    }
   ],
   "source": [
    "#Sorting by Values\n",
    "ser1.sort_values()"
   ]
  },
  {
   "cell_type": "code",
   "execution_count": 6,
   "metadata": {},
   "outputs": [
    {
     "name": "stdout",
     "output_type": "stream",
     "text": [
      "0    10\n",
      "1    15\n",
      "2    14\n",
      "3    12\n",
      "4     6\n",
      "5     7\n",
      "dtype: int64\n"
     ]
    }
   ],
   "source": [
    "ser2= Series([10,15,14,12,6,7])\n",
    "print(ser2)"
   ]
  },
  {
   "cell_type": "code",
   "execution_count": 7,
   "metadata": {},
   "outputs": [
    {
     "data": {
      "text/plain": [
       "0    3.0\n",
       "1    6.0\n",
       "2    5.0\n",
       "3    4.0\n",
       "4    1.0\n",
       "5    2.0\n",
       "dtype: float64"
      ]
     },
     "execution_count": 7,
     "metadata": {},
     "output_type": "execute_result"
    }
   ],
   "source": [
    "#Ranking of Series\n",
    "ser2.rank()"
   ]
  },
  {
   "cell_type": "code",
   "execution_count": 8,
   "metadata": {},
   "outputs": [
    {
     "name": "stdout",
     "output_type": "stream",
     "text": [
      "0    3.0\n",
      "1    6.0\n",
      "2    5.0\n",
      "3    4.0\n",
      "4    1.0\n",
      "5    2.0\n",
      "dtype: float64\n",
      "4    1.0\n",
      "5    2.0\n",
      "0    3.0\n",
      "3    4.0\n",
      "2    5.0\n",
      "1    6.0\n",
      "dtype: float64\n"
     ]
    }
   ],
   "source": [
    "#Interesting fact- Sorting uses ranking function\n",
    "print(ser2.rank())\n",
    "ser2= ser2.sort_values()\n",
    "print(ser2.rank())"
   ]
  }
 ],
 "metadata": {
  "kernelspec": {
   "display_name": "Python 3",
   "language": "python",
   "name": "python3"
  },
  "language_info": {
   "codemirror_mode": {
    "name": "ipython",
    "version": 3
   },
   "file_extension": ".py",
   "mimetype": "text/x-python",
   "name": "python",
   "nbconvert_exporter": "python",
   "pygments_lexer": "ipython3",
   "version": "3.8.2"
  }
 },
 "nbformat": 4,
 "nbformat_minor": 4
}
