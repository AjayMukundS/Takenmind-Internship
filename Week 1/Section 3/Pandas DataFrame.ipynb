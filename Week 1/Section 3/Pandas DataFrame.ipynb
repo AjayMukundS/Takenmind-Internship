{
 "cells": [
  {
   "cell_type": "code",
   "execution_count": 1,
   "metadata": {},
   "outputs": [],
   "source": [
    "#Agenda\n",
    "#What is a DataFrame?\n",
    "#Create a DataFrame from clipboard\n",
    "#Display column names\n",
    "#Access one or more columns\n",
    "#What is NAN value\n",
    "#Create a column with NAN values\n",
    "#Head and Tail functions\n",
    "#Assign values to a dataframe using 1. Numpy 2. Series\n",
    "#Delete a column\n",
    "#Convert dictionary to a dataframe\n",
    "#Summarize"
   ]
  },
  {
   "cell_type": "code",
   "execution_count": 2,
   "metadata": {},
   "outputs": [],
   "source": [
    "import numpy as np\n",
    "import pandas as pd\n",
    "from pandas import Series, DataFrame"
   ]
  },
  {
   "cell_type": "markdown",
   "metadata": {},
   "source": [
    "# What is a DataFrame?\n",
    "##### 2-Dimensional with 3 principal components =>Rows, Columns and Values\n",
    "##### Similar to a table in excel sheet\n",
    "##### Labelled axes- Rows and Columns are labelled\n",
    "##### Size mutable- size of a dataframe can be changed anytime"
   ]
  },
  {
   "cell_type": "code",
   "execution_count": 3,
   "metadata": {},
   "outputs": [
    {
     "name": "stdout",
     "output_type": "stream",
     "text": [
      "  First name    Last name  Age\n",
      "0       Tinu     Elejogun   14\n",
      "1      Marek  Kostrzewski   25\n",
      "2       Lily    McGarrett   18\n",
      "3  Olatunkbo     Chijiaku   22\n",
      "4   Adrienne     Anthoula   22\n",
      "5     Axelia   Athanasios   22\n",
      "6  Jon-Kabat         Zinn   22\n",
      "7    Thabang        Mosoa   15\n",
      "8   Kgaogelo        Mosoa   11\n"
     ]
    }
   ],
   "source": [
    "#Create a DataFrame from clipboard\n",
    "#Data link: https://en.wikipedia.org/wiki/Table_(information)#:~:text=A%20table%20is%20an%20arrangement,signs%2C%20and%20many%20other%20places.\n",
    "age_df= pd.read_clipboard()\n",
    "print(age_df)"
   ]
  },
  {
   "cell_type": "code",
   "execution_count": 4,
   "metadata": {},
   "outputs": [
    {
     "data": {
      "text/plain": [
       "Index(['First name', 'Last name', 'Age'], dtype='object')"
      ]
     },
     "execution_count": 4,
     "metadata": {},
     "output_type": "execute_result"
    }
   ],
   "source": [
    "#Display column names\n",
    "age_df.columns"
   ]
  },
  {
   "cell_type": "code",
   "execution_count": 5,
   "metadata": {},
   "outputs": [
    {
     "data": {
      "text/plain": [
       "0         Tinu\n",
       "1        Marek\n",
       "2         Lily\n",
       "3    Olatunkbo\n",
       "4     Adrienne\n",
       "5       Axelia\n",
       "6    Jon-Kabat\n",
       "7      Thabang\n",
       "8     Kgaogelo\n",
       "Name: First name, dtype: object"
      ]
     },
     "execution_count": 5,
     "metadata": {},
     "output_type": "execute_result"
    }
   ],
   "source": [
    "#Access one or more columns\n",
    "age_df[\"First name\"]"
   ]
  },
  {
   "cell_type": "code",
   "execution_count": 6,
   "metadata": {},
   "outputs": [
    {
     "data": {
      "text/html": [
       "<div>\n",
       "<style scoped>\n",
       "    .dataframe tbody tr th:only-of-type {\n",
       "        vertical-align: middle;\n",
       "    }\n",
       "\n",
       "    .dataframe tbody tr th {\n",
       "        vertical-align: top;\n",
       "    }\n",
       "\n",
       "    .dataframe thead th {\n",
       "        text-align: right;\n",
       "    }\n",
       "</style>\n",
       "<table border=\"1\" class=\"dataframe\">\n",
       "  <thead>\n",
       "    <tr style=\"text-align: right;\">\n",
       "      <th></th>\n",
       "      <th>First name</th>\n",
       "      <th>Age</th>\n",
       "    </tr>\n",
       "  </thead>\n",
       "  <tbody>\n",
       "    <tr>\n",
       "      <th>0</th>\n",
       "      <td>Tinu</td>\n",
       "      <td>14</td>\n",
       "    </tr>\n",
       "    <tr>\n",
       "      <th>1</th>\n",
       "      <td>Marek</td>\n",
       "      <td>25</td>\n",
       "    </tr>\n",
       "    <tr>\n",
       "      <th>2</th>\n",
       "      <td>Lily</td>\n",
       "      <td>18</td>\n",
       "    </tr>\n",
       "    <tr>\n",
       "      <th>3</th>\n",
       "      <td>Olatunkbo</td>\n",
       "      <td>22</td>\n",
       "    </tr>\n",
       "    <tr>\n",
       "      <th>4</th>\n",
       "      <td>Adrienne</td>\n",
       "      <td>22</td>\n",
       "    </tr>\n",
       "    <tr>\n",
       "      <th>5</th>\n",
       "      <td>Axelia</td>\n",
       "      <td>22</td>\n",
       "    </tr>\n",
       "    <tr>\n",
       "      <th>6</th>\n",
       "      <td>Jon-Kabat</td>\n",
       "      <td>22</td>\n",
       "    </tr>\n",
       "    <tr>\n",
       "      <th>7</th>\n",
       "      <td>Thabang</td>\n",
       "      <td>15</td>\n",
       "    </tr>\n",
       "    <tr>\n",
       "      <th>8</th>\n",
       "      <td>Kgaogelo</td>\n",
       "      <td>11</td>\n",
       "    </tr>\n",
       "  </tbody>\n",
       "</table>\n",
       "</div>"
      ],
      "text/plain": [
       "  First name  Age\n",
       "0       Tinu   14\n",
       "1      Marek   25\n",
       "2       Lily   18\n",
       "3  Olatunkbo   22\n",
       "4   Adrienne   22\n",
       "5     Axelia   22\n",
       "6  Jon-Kabat   22\n",
       "7    Thabang   15\n",
       "8   Kgaogelo   11"
      ]
     },
     "execution_count": 6,
     "metadata": {},
     "output_type": "execute_result"
    }
   ],
   "source": [
    "age_df[[\"First name\", \"Age\"]]"
   ]
  },
  {
   "cell_type": "code",
   "execution_count": 7,
   "metadata": {},
   "outputs": [
    {
     "name": "stdout",
     "output_type": "stream",
     "text": [
      "  First name    Last name  Age  rank\n",
      "0       Tinu     Elejogun   14   NaN\n",
      "1      Marek  Kostrzewski   25   NaN\n",
      "2       Lily    McGarrett   18   NaN\n",
      "3  Olatunkbo     Chijiaku   22   NaN\n",
      "4   Adrienne     Anthoula   22   NaN\n",
      "5     Axelia   Athanasios   22   NaN\n",
      "6  Jon-Kabat         Zinn   22   NaN\n",
      "7    Thabang        Mosoa   15   NaN\n",
      "8   Kgaogelo        Mosoa   11   NaN\n"
     ]
    }
   ],
   "source": [
    "#What is NAN value?\n",
    "#   Null value\n",
    "\n",
    "#Create a column with NAN values\n",
    "age_df[\"rank\"]= np.nan\n",
    "print(age_df)"
   ]
  },
  {
   "cell_type": "code",
   "execution_count": 8,
   "metadata": {},
   "outputs": [
    {
     "data": {
      "text/html": [
       "<div>\n",
       "<style scoped>\n",
       "    .dataframe tbody tr th:only-of-type {\n",
       "        vertical-align: middle;\n",
       "    }\n",
       "\n",
       "    .dataframe tbody tr th {\n",
       "        vertical-align: top;\n",
       "    }\n",
       "\n",
       "    .dataframe thead th {\n",
       "        text-align: right;\n",
       "    }\n",
       "</style>\n",
       "<table border=\"1\" class=\"dataframe\">\n",
       "  <thead>\n",
       "    <tr style=\"text-align: right;\">\n",
       "      <th></th>\n",
       "      <th>First name</th>\n",
       "      <th>Last name</th>\n",
       "      <th>Age</th>\n",
       "      <th>rank</th>\n",
       "    </tr>\n",
       "  </thead>\n",
       "  <tbody>\n",
       "    <tr>\n",
       "      <th>0</th>\n",
       "      <td>Tinu</td>\n",
       "      <td>Elejogun</td>\n",
       "      <td>14</td>\n",
       "      <td>NaN</td>\n",
       "    </tr>\n",
       "    <tr>\n",
       "      <th>1</th>\n",
       "      <td>Marek</td>\n",
       "      <td>Kostrzewski</td>\n",
       "      <td>25</td>\n",
       "      <td>NaN</td>\n",
       "    </tr>\n",
       "    <tr>\n",
       "      <th>2</th>\n",
       "      <td>Lily</td>\n",
       "      <td>McGarrett</td>\n",
       "      <td>18</td>\n",
       "      <td>NaN</td>\n",
       "    </tr>\n",
       "    <tr>\n",
       "      <th>3</th>\n",
       "      <td>Olatunkbo</td>\n",
       "      <td>Chijiaku</td>\n",
       "      <td>22</td>\n",
       "      <td>NaN</td>\n",
       "    </tr>\n",
       "    <tr>\n",
       "      <th>4</th>\n",
       "      <td>Adrienne</td>\n",
       "      <td>Anthoula</td>\n",
       "      <td>22</td>\n",
       "      <td>NaN</td>\n",
       "    </tr>\n",
       "  </tbody>\n",
       "</table>\n",
       "</div>"
      ],
      "text/plain": [
       "  First name    Last name  Age  rank\n",
       "0       Tinu     Elejogun   14   NaN\n",
       "1      Marek  Kostrzewski   25   NaN\n",
       "2       Lily    McGarrett   18   NaN\n",
       "3  Olatunkbo     Chijiaku   22   NaN\n",
       "4   Adrienne     Anthoula   22   NaN"
      ]
     },
     "execution_count": 8,
     "metadata": {},
     "output_type": "execute_result"
    }
   ],
   "source": [
    "#Head and Tail functions\n",
    "age_df.head()"
   ]
  },
  {
   "cell_type": "code",
   "execution_count": 9,
   "metadata": {},
   "outputs": [
    {
     "data": {
      "text/html": [
       "<div>\n",
       "<style scoped>\n",
       "    .dataframe tbody tr th:only-of-type {\n",
       "        vertical-align: middle;\n",
       "    }\n",
       "\n",
       "    .dataframe tbody tr th {\n",
       "        vertical-align: top;\n",
       "    }\n",
       "\n",
       "    .dataframe thead th {\n",
       "        text-align: right;\n",
       "    }\n",
       "</style>\n",
       "<table border=\"1\" class=\"dataframe\">\n",
       "  <thead>\n",
       "    <tr style=\"text-align: right;\">\n",
       "      <th></th>\n",
       "      <th>First name</th>\n",
       "      <th>Last name</th>\n",
       "      <th>Age</th>\n",
       "      <th>rank</th>\n",
       "    </tr>\n",
       "  </thead>\n",
       "  <tbody>\n",
       "    <tr>\n",
       "      <th>4</th>\n",
       "      <td>Adrienne</td>\n",
       "      <td>Anthoula</td>\n",
       "      <td>22</td>\n",
       "      <td>NaN</td>\n",
       "    </tr>\n",
       "    <tr>\n",
       "      <th>5</th>\n",
       "      <td>Axelia</td>\n",
       "      <td>Athanasios</td>\n",
       "      <td>22</td>\n",
       "      <td>NaN</td>\n",
       "    </tr>\n",
       "    <tr>\n",
       "      <th>6</th>\n",
       "      <td>Jon-Kabat</td>\n",
       "      <td>Zinn</td>\n",
       "      <td>22</td>\n",
       "      <td>NaN</td>\n",
       "    </tr>\n",
       "    <tr>\n",
       "      <th>7</th>\n",
       "      <td>Thabang</td>\n",
       "      <td>Mosoa</td>\n",
       "      <td>15</td>\n",
       "      <td>NaN</td>\n",
       "    </tr>\n",
       "    <tr>\n",
       "      <th>8</th>\n",
       "      <td>Kgaogelo</td>\n",
       "      <td>Mosoa</td>\n",
       "      <td>11</td>\n",
       "      <td>NaN</td>\n",
       "    </tr>\n",
       "  </tbody>\n",
       "</table>\n",
       "</div>"
      ],
      "text/plain": [
       "  First name   Last name  Age  rank\n",
       "4   Adrienne    Anthoula   22   NaN\n",
       "5     Axelia  Athanasios   22   NaN\n",
       "6  Jon-Kabat        Zinn   22   NaN\n",
       "7    Thabang       Mosoa   15   NaN\n",
       "8   Kgaogelo       Mosoa   11   NaN"
      ]
     },
     "execution_count": 9,
     "metadata": {},
     "output_type": "execute_result"
    }
   ],
   "source": [
    "age_df.tail()"
   ]
  },
  {
   "cell_type": "code",
   "execution_count": 10,
   "metadata": {},
   "outputs": [
    {
     "name": "stdout",
     "output_type": "stream",
     "text": [
      "[0 1 2 3 4 5 6 7 8]\n"
     ]
    }
   ],
   "source": [
    "#Assign values to a dataframe using...\n",
    "\n",
    "#1. Numpy\n",
    "\n",
    "array_1= np.arange(9)\n",
    "print(array_1)"
   ]
  },
  {
   "cell_type": "code",
   "execution_count": 11,
   "metadata": {},
   "outputs": [
    {
     "name": "stdout",
     "output_type": "stream",
     "text": [
      "  First name    Last name  Age  rank\n",
      "0       Tinu     Elejogun   14     0\n",
      "1      Marek  Kostrzewski   25     1\n",
      "2       Lily    McGarrett   18     2\n",
      "3  Olatunkbo     Chijiaku   22     3\n",
      "4   Adrienne     Anthoula   22     4\n",
      "5     Axelia   Athanasios   22     5\n",
      "6  Jon-Kabat         Zinn   22     6\n",
      "7    Thabang        Mosoa   15     7\n",
      "8   Kgaogelo        Mosoa   11     8\n"
     ]
    }
   ],
   "source": [
    "age_df[\"rank\"]= array_1\n",
    "print(age_df)"
   ]
  },
  {
   "cell_type": "code",
   "execution_count": 12,
   "metadata": {},
   "outputs": [
    {
     "name": "stdout",
     "output_type": "stream",
     "text": [
      "  First name    Last name  Age  rank\n",
      "0       Tinu     Elejogun   14   NaN\n",
      "1      Marek  Kostrzewski   25   NaN\n",
      "2       Lily    McGarrett   18   NaN\n",
      "3  Olatunkbo     Chijiaku   22  10.0\n",
      "4   Adrienne     Anthoula   22   NaN\n",
      "5     Axelia   Athanasios   22  11.0\n",
      "6  Jon-Kabat         Zinn   22  12.0\n",
      "7    Thabang        Mosoa   15   NaN\n",
      "8   Kgaogelo        Mosoa   11   NaN\n"
     ]
    }
   ],
   "source": [
    "#2.Series\n",
    "\n",
    "newrank_series= Series([10,11,12], index= [3,5,6])\n",
    "age_df[\"rank\"]= newrank_series\n",
    "print(age_df)"
   ]
  },
  {
   "cell_type": "code",
   "execution_count": 13,
   "metadata": {},
   "outputs": [
    {
     "name": "stdout",
     "output_type": "stream",
     "text": [
      "  First name  Age  rank\n",
      "0       Tinu   14   NaN\n",
      "1      Marek   25   NaN\n",
      "2       Lily   18   NaN\n",
      "3  Olatunkbo   22  10.0\n",
      "4   Adrienne   22   NaN\n",
      "5     Axelia   22  11.0\n",
      "6  Jon-Kabat   22  12.0\n",
      "7    Thabang   15   NaN\n",
      "8   Kgaogelo   11   NaN\n"
     ]
    }
   ],
   "source": [
    "#Delete a column\n",
    "del(age_df[\"Last name\"])\n",
    "print(age_df)"
   ]
  },
  {
   "cell_type": "code",
   "execution_count": 14,
   "metadata": {},
   "outputs": [
    {
     "name": "stdout",
     "output_type": "stream",
     "text": [
      "{'company': ['Nestle', 'PG'], 'profit': [1000, 500]}\n"
     ]
    }
   ],
   "source": [
    "#Convert dictionary to a dataframe\n",
    "sample_dict= {\n",
    "    'company': [\"Nestle\", \"PG\"], \n",
    "    'profit': [1000, 500]\n",
    "}\n",
    "\n",
    "print(sample_dict)"
   ]
  },
  {
   "cell_type": "code",
   "execution_count": 15,
   "metadata": {},
   "outputs": [],
   "source": [
    "sample_df= DataFrame(sample_dict)"
   ]
  },
  {
   "cell_type": "code",
   "execution_count": 16,
   "metadata": {},
   "outputs": [
    {
     "name": "stdout",
     "output_type": "stream",
     "text": [
      "  company  profit\n",
      "0  Nestle    1000\n",
      "1      PG     500\n"
     ]
    }
   ],
   "source": [
    "print(sample_df)"
   ]
  }
 ],
 "metadata": {
  "kernelspec": {
   "display_name": "Python 3",
   "language": "python",
   "name": "python3"
  },
  "language_info": {
   "codemirror_mode": {
    "name": "ipython",
    "version": 3
   },
   "file_extension": ".py",
   "mimetype": "text/x-python",
   "name": "python",
   "nbconvert_exporter": "python",
   "pygments_lexer": "ipython3",
   "version": "3.8.2"
  }
 },
 "nbformat": 4,
 "nbformat_minor": 4
}
