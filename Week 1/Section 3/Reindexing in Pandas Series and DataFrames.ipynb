{
 "cells": [
  {
   "cell_type": "code",
   "execution_count": 1,
   "metadata": {},
   "outputs": [],
   "source": [
    "#Agenda\n",
    "#Reindexing in Series- reindex() method\n",
    "#Reindexing in Series- reindex() method with fill_value\n",
    "#Reindexing in Series- forwardfill\n",
    "#Reindexing in DataFrame"
   ]
  },
  {
   "cell_type": "code",
   "execution_count": 2,
   "metadata": {},
   "outputs": [],
   "source": [
    "import numpy as np\n",
    "import pandas as pd\n",
    "from pandas import Series, DataFrame"
   ]
  },
  {
   "cell_type": "code",
   "execution_count": 3,
   "metadata": {},
   "outputs": [
    {
     "name": "stdout",
     "output_type": "stream",
     "text": [
      "a    1\n",
      "b    2\n",
      "c    3\n",
      "d    4\n",
      "dtype: int64\n"
     ]
    }
   ],
   "source": [
    "s1= Series([1,2,3,4], index= ['a','b','c','d'])\n",
    "print(s1)"
   ]
  },
  {
   "cell_type": "code",
   "execution_count": 4,
   "metadata": {},
   "outputs": [
    {
     "name": "stdout",
     "output_type": "stream",
     "text": [
      "a    1.0\n",
      "b    2.0\n",
      "c    3.0\n",
      "d    4.0\n",
      "e    NaN\n",
      "f    NaN\n",
      "dtype: float64\n"
     ]
    }
   ],
   "source": [
    "#Reindexing in Series- reindex() method\n",
    "s1= s1.reindex(['a','b','c','d','e','f'])\n",
    "print(s1)"
   ]
  },
  {
   "cell_type": "code",
   "execution_count": 5,
   "metadata": {},
   "outputs": [
    {
     "name": "stdout",
     "output_type": "stream",
     "text": [
      "a      1.0\n",
      "b      2.0\n",
      "c      3.0\n",
      "d      4.0\n",
      "e      NaN\n",
      "f      NaN\n",
      "g    100.0\n",
      "dtype: float64\n"
     ]
    }
   ],
   "source": [
    "#Reindexing in Series- reindex() method with fill_value\n",
    "s1= s1.reindex(['a','b','c','d','e','f','g'], fill_value= 100)\n",
    "print(s1)"
   ]
  },
  {
   "cell_type": "code",
   "execution_count": 6,
   "metadata": {},
   "outputs": [
    {
     "name": "stdout",
     "output_type": "stream",
     "text": [
      "0        Audi\n",
      "4    Mercedes\n",
      "8         BMW\n",
      "dtype: object\n"
     ]
    }
   ],
   "source": [
    "#Reindexing in Series- forwardfill\n",
    "cars= Series([\"Audi\",'Mercedes','BMW'], index= [0,4,8])\n",
    "print(cars)"
   ]
  },
  {
   "cell_type": "code",
   "execution_count": 7,
   "metadata": {},
   "outputs": [
    {
     "name": "stdout",
     "output_type": "stream",
     "text": [
      "0         Audi\n",
      "1         Audi\n",
      "2         Audi\n",
      "3         Audi\n",
      "4     Mercedes\n",
      "5     Mercedes\n",
      "6     Mercedes\n",
      "7     Mercedes\n",
      "8          BMW\n",
      "9          BMW\n",
      "10         BMW\n",
      "11         BMW\n",
      "dtype: object\n"
     ]
    }
   ],
   "source": [
    "new_index= range(12)\n",
    "cars= cars.reindex(new_index, method= \"ffill\")\n",
    "print(cars)"
   ]
  },
  {
   "cell_type": "code",
   "execution_count": 8,
   "metadata": {},
   "outputs": [
    {
     "name": "stdout",
     "output_type": "stream",
     "text": [
      "         c1        c2        c3        c4        c5\n",
      "a  0.148856  1.314330  1.636693 -0.238474  0.040481\n",
      "b -1.103819  0.960996  0.028989  0.878942 -0.608113\n",
      "c -0.579927 -0.095929  1.169456 -1.103618  0.084215\n",
      "d  0.441519  0.672904  0.840142  1.455676  0.133143\n",
      "e  1.077078  0.896201  0.935263 -1.191744 -0.516807\n"
     ]
    }
   ],
   "source": [
    "#Reindexing in DataFrame\n",
    "df1= DataFrame(np.random.randn(25).reshape(5,5), index= [\"a\", 'b','c','d','e'], columns= ['c1','c2','c3','c4','c5'])\n",
    "print(df1)"
   ]
  },
  {
   "cell_type": "code",
   "execution_count": 9,
   "metadata": {},
   "outputs": [
    {
     "name": "stdout",
     "output_type": "stream",
     "text": [
      "         c1        c2        c3        c4        c5  c6\n",
      "a  0.148856  1.314330  1.636693 -0.238474  0.040481 NaN\n",
      "b -1.103819  0.960996  0.028989  0.878942 -0.608113 NaN\n",
      "c -0.579927 -0.095929  1.169456 -1.103618  0.084215 NaN\n",
      "d  0.441519  0.672904  0.840142  1.455676  0.133143 NaN\n",
      "e  1.077078  0.896201  0.935263 -1.191744 -0.516807 NaN\n",
      "f       NaN       NaN       NaN       NaN       NaN NaN\n"
     ]
    }
   ],
   "source": [
    "df1= df1.reindex([\"a\", 'b','c','d','e','f'], columns= ['c1','c2','c3','c4','c5','c6'])\n",
    "print(df1)"
   ]
  }
 ],
 "metadata": {
  "kernelspec": {
   "display_name": "Python 3",
   "language": "python",
   "name": "python3"
  },
  "language_info": {
   "codemirror_mode": {
    "name": "ipython",
    "version": 3
   },
   "file_extension": ".py",
   "mimetype": "text/x-python",
   "name": "python",
   "nbconvert_exporter": "python",
   "pygments_lexer": "ipython3",
   "version": "3.8.2"
  }
 },
 "nbformat": 4,
 "nbformat_minor": 4
}
