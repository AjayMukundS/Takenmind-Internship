{
 "cells": [
  {
   "cell_type": "code",
   "execution_count": 1,
   "metadata": {},
   "outputs": [],
   "source": [
    "#Agenda\n",
    "#Recap of Previous video and intro to current video\n",
    "#Accessing Rows\n",
    "#Accessing elements of Array\n",
    "#Slicing in 2D Arrays\n",
    "#Using Loops to change index\n",
    "#Accessing rows using list of index values\n",
    "#Summary\n",
    "#What's next"
   ]
  },
  {
   "cell_type": "code",
   "execution_count": 2,
   "metadata": {},
   "outputs": [],
   "source": [
    "import numpy as np"
   ]
  },
  {
   "cell_type": "code",
   "execution_count": 3,
   "metadata": {},
   "outputs": [
    {
     "name": "stdout",
     "output_type": "stream",
     "text": [
      "[[1 2 3]\n",
      " [4 5 6]\n",
      " [7 8 9]]\n"
     ]
    }
   ],
   "source": [
    "arr2D= np.array([[1,2,3],[4,5,6],[7,8,9]])\n",
    "print(arr2D)"
   ]
  },
  {
   "cell_type": "code",
   "execution_count": 4,
   "metadata": {},
   "outputs": [
    {
     "name": "stdout",
     "output_type": "stream",
     "text": [
      "[1 2 3]\n",
      "[4 5 6]\n"
     ]
    }
   ],
   "source": [
    "#Accessing Rows\n",
    "print(arr2D[0])\n",
    "print(arr2D[1])"
   ]
  },
  {
   "cell_type": "code",
   "execution_count": 5,
   "metadata": {},
   "outputs": [
    {
     "name": "stdout",
     "output_type": "stream",
     "text": [
      "1\n",
      "6\n"
     ]
    }
   ],
   "source": [
    "#Accessing elements of Array\n",
    "print(arr2D[0][0])\n",
    "print(arr2D[1][2])"
   ]
  },
  {
   "cell_type": "code",
   "execution_count": 6,
   "metadata": {},
   "outputs": [
    {
     "name": "stdout",
     "output_type": "stream",
     "text": [
      "[[1 2]] \n",
      "\n",
      "[[1 2 3]\n",
      " [4 5 6]]\n"
     ]
    }
   ],
   "source": [
    "#Slicing in 2D Arrays\n",
    "slice1= arr2D[0:1, 0:2]\n",
    "print(slice1,\"\\n\")\n",
    "\n",
    "slice2= arr2D[0:2, 0:3]\n",
    "print(slice2)"
   ]
  },
  {
   "cell_type": "code",
   "execution_count": 7,
   "metadata": {},
   "outputs": [
    {
     "name": "stdout",
     "output_type": "stream",
     "text": [
      "[[1 2 3]\n",
      " [4 5 6]]\n"
     ]
    }
   ],
   "source": [
    "slice3= arr2D[:2, :3]\n",
    "print(slice3)"
   ]
  },
  {
   "cell_type": "code",
   "execution_count": 8,
   "metadata": {},
   "outputs": [
    {
     "name": "stdout",
     "output_type": "stream",
     "text": [
      "[[6]\n",
      " [9]]\n"
     ]
    }
   ],
   "source": [
    "slice4= arr2D[1:, 2:]\n",
    "print(slice4)"
   ]
  },
  {
   "cell_type": "code",
   "execution_count": 9,
   "metadata": {},
   "outputs": [
    {
     "name": "stdout",
     "output_type": "stream",
     "text": [
      "(3, 3)\n"
     ]
    }
   ],
   "source": [
    "#Using Loops to change index\n",
    "\n",
    "arr_len= arr2D.shape\n",
    "print(arr_len)\n",
    "nrows= arr_len[0]"
   ]
  },
  {
   "cell_type": "code",
   "execution_count": 10,
   "metadata": {},
   "outputs": [
    {
     "name": "stdout",
     "output_type": "stream",
     "text": [
      "[[0 2 3]\n",
      " [1 5 6]\n",
      " [2 8 9]]\n"
     ]
    }
   ],
   "source": [
    "for i in range(nrows):\n",
    "    arr2D[i][0]= i\n",
    "print(arr2D)"
   ]
  },
  {
   "cell_type": "code",
   "execution_count": 11,
   "metadata": {},
   "outputs": [
    {
     "name": "stdout",
     "output_type": "stream",
     "text": [
      "[[0 2 3]\n",
      " [1 5 6]]\n"
     ]
    }
   ],
   "source": [
    "#Accessing rows using list of index values\n",
    "\n",
    "print(arr2D[[0,1]])"
   ]
  },
  {
   "cell_type": "code",
   "execution_count": 12,
   "metadata": {},
   "outputs": [
    {
     "name": "stdout",
     "output_type": "stream",
     "text": [
      "[[1 5 6]\n",
      " [0 2 3]]\n"
     ]
    }
   ],
   "source": [
    "print(arr2D[[1,0]])"
   ]
  }
 ],
 "metadata": {
  "kernelspec": {
   "display_name": "Python 3",
   "language": "python",
   "name": "python3"
  },
  "language_info": {
   "codemirror_mode": {
    "name": "ipython",
    "version": 3
   },
   "file_extension": ".py",
   "mimetype": "text/x-python",
   "name": "python",
   "nbconvert_exporter": "python",
   "pygments_lexer": "ipython3",
   "version": "3.8.2"
  }
 },
 "nbformat": 4,
 "nbformat_minor": 4
}
