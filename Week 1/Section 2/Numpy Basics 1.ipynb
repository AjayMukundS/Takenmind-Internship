{
 "cells": [
  {
   "cell_type": "code",
   "execution_count": 1,
   "metadata": {},
   "outputs": [],
   "source": [
    "#Agenda\n",
    "#Introduction to Numpy\n",
    "#Creating 1D Numpy Array\n",
    "#Creating 2D Numpy Array\n",
    "#Finding Dimensions of Array- shape\n",
    "#Finding Datatype of Array- dtype\n",
    "#Array Creation and Initialization Functions- zeros\n",
    "#Array Creation and Initialization Functions- ones\n",
    "#Array Creation and Initialization Functions- empty\n",
    "#Array Creation and Initialization Functions- eye\n",
    "#Array Creation and Initialization Functions- arange\n",
    "#Summarize"
   ]
  },
  {
   "cell_type": "code",
   "execution_count": 2,
   "metadata": {},
   "outputs": [],
   "source": [
    "import numpy as np"
   ]
  },
  {
   "cell_type": "code",
   "execution_count": 3,
   "metadata": {},
   "outputs": [
    {
     "name": "stdout",
     "output_type": "stream",
     "text": [
      "[101 102 103]\n"
     ]
    }
   ],
   "source": [
    "#Creating 1D Numpy Array\n",
    "\n",
    "mylist1= [101,102,103]\n",
    "\n",
    "myArray= np.array(mylist1)\n",
    "\n",
    "print(myArray)"
   ]
  },
  {
   "cell_type": "code",
   "execution_count": 4,
   "metadata": {},
   "outputs": [
    {
     "name": "stdout",
     "output_type": "stream",
     "text": [
      "[[101 102 103]\n",
      " [201 202 203]]\n"
     ]
    }
   ],
   "source": [
    "#Creating 2D Numpy Array\n",
    "\n",
    "mylist2= [201,202,203]\n",
    "\n",
    "myArray2D= np.array([mylist1, mylist2])\n",
    "\n",
    "print(myArray2D)"
   ]
  },
  {
   "cell_type": "code",
   "execution_count": 5,
   "metadata": {},
   "outputs": [
    {
     "name": "stdout",
     "output_type": "stream",
     "text": [
      "myArray Dimensions\n",
      "(3,)\n",
      "myArray2D Dimensions\n",
      "(2, 3)\n"
     ]
    }
   ],
   "source": [
    "#Finding Dimensions of Array- shape\n",
    "print(\"myArray Dimensions\")\n",
    "print(myArray.shape)\n",
    "print(\"myArray2D Dimensions\")\n",
    "print(myArray2D.shape)"
   ]
  },
  {
   "cell_type": "code",
   "execution_count": 6,
   "metadata": {},
   "outputs": [
    {
     "name": "stdout",
     "output_type": "stream",
     "text": [
      "myArray Datatype\n",
      "int32\n",
      "myArray2D Datatype\n",
      "int32\n"
     ]
    }
   ],
   "source": [
    "#Finding Datatype of Array- dtype\n",
    "print(\"myArray Datatype\")\n",
    "print(myArray.dtype)\n",
    "print(\"myArray2D Datatype\")\n",
    "print(myArray2D.dtype)"
   ]
  },
  {
   "cell_type": "code",
   "execution_count": 7,
   "metadata": {},
   "outputs": [
    {
     "name": "stdout",
     "output_type": "stream",
     "text": [
      "1D\n",
      "[0. 0. 0. 0. 0.] \n",
      "\n",
      "2D\n",
      "[[0. 0. 0. 0. 0.]\n",
      " [0. 0. 0. 0. 0.]\n",
      " [0. 0. 0. 0. 0.]\n",
      " [0. 0. 0. 0. 0.]\n",
      " [0. 0. 0. 0. 0.]]\n"
     ]
    }
   ],
   "source": [
    "#Array Creation and Initialization Functions- zeros\n",
    "print(\"1D\")\n",
    "zero_array= np.zeros(5)\n",
    "print(zero_array,\"\\n\")\n",
    "print(\"2D\")\n",
    "zero_array2D= np.zeros([5,5])\n",
    "print(zero_array2D)"
   ]
  },
  {
   "cell_type": "code",
   "execution_count": 8,
   "metadata": {},
   "outputs": [
    {
     "name": "stdout",
     "output_type": "stream",
     "text": [
      "1D\n",
      "[1. 1. 1. 1. 1.] \n",
      "\n",
      "2D\n",
      "[[1. 1. 1. 1. 1.]\n",
      " [1. 1. 1. 1. 1.]\n",
      " [1. 1. 1. 1. 1.]\n",
      " [1. 1. 1. 1. 1.]\n",
      " [1. 1. 1. 1. 1.]]\n"
     ]
    }
   ],
   "source": [
    "#Array Creation and Initialization Functions- ones\n",
    "print(\"1D\")\n",
    "one_array= np.ones(5)\n",
    "print(one_array,\"\\n\")\n",
    "print(\"2D\")\n",
    "one_array2D= np.ones([5,5])\n",
    "print(one_array2D)"
   ]
  },
  {
   "cell_type": "code",
   "execution_count": 9,
   "metadata": {},
   "outputs": [
    {
     "name": "stdout",
     "output_type": "stream",
     "text": [
      "1D\n",
      "[1. 1. 1. 1. 1.] \n",
      "\n",
      "2D\n",
      "[[1. 1. 1. 1. 1.]\n",
      " [1. 1. 1. 1. 1.]\n",
      " [1. 1. 1. 1. 1.]\n",
      " [1. 1. 1. 1. 1.]\n",
      " [1. 1. 1. 1. 1.]]\n"
     ]
    }
   ],
   "source": [
    "#Array Creation and Initialization Functions- empty\n",
    "print(\"1D\")\n",
    "empty_array= np.empty(5)\n",
    "print(empty_array,\"\\n\")\n",
    "print(\"2D\")\n",
    "empty_array2D= np.empty([5,5])\n",
    "print(empty_array2D)"
   ]
  },
  {
   "cell_type": "code",
   "execution_count": 10,
   "metadata": {},
   "outputs": [
    {
     "name": "stdout",
     "output_type": "stream",
     "text": [
      "[[1. 0. 0.]\n",
      " [0. 1. 0.]\n",
      " [0. 0. 1.]]\n"
     ]
    }
   ],
   "source": [
    "#Array Creation and Initialization Functions- eye (Identity Matrix)\n",
    "\n",
    "Identity_array= np.eye(3)\n",
    "print(Identity_array)\n"
   ]
  },
  {
   "cell_type": "code",
   "execution_count": 11,
   "metadata": {},
   "outputs": [
    {
     "name": "stdout",
     "output_type": "stream",
     "text": [
      "[ 0  2  4  6  8 10 12 14 16 18 20 22 24 26 28 30 32 34 36 38 40 42 44 46\n",
      " 48]\n"
     ]
    }
   ],
   "source": [
    "#Array Creation and Initialization Functions- arange\n",
    "\n",
    "AP_array= np.arange(0,50,2)\n",
    "print(AP_array)\n"
   ]
  }
 ],
 "metadata": {
  "kernelspec": {
   "display_name": "Python 3",
   "language": "python",
   "name": "python3"
  },
  "language_info": {
   "codemirror_mode": {
    "name": "ipython",
    "version": 3
   },
   "file_extension": ".py",
   "mimetype": "text/x-python",
   "name": "python",
   "nbconvert_exporter": "python",
   "pygments_lexer": "ipython3",
   "version": "3.8.2"
  }
 },
 "nbformat": 4,
 "nbformat_minor": 4
}
