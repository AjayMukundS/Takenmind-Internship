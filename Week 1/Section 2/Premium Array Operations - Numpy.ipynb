{
 "cells": [
  {
   "cell_type": "code",
   "execution_count": 1,
   "metadata": {},
   "outputs": [],
   "source": [
    "#Agenda\n",
    "#Function of Numpy Arrays - arange()\n",
    "#Function of Numpy Arrays - sqrt()\n",
    "#Function of Numpy Arrays - exp()\n",
    "#Function of Numpy Arrays - random()\n",
    "#Function of Numpy Arrays - add()\n",
    "#Function of Numpy Arrays - maximum()\n",
    "#Numpy Additional documentation - numpy.org, docs.scipy.org"
   ]
  },
  {
   "cell_type": "code",
   "execution_count": 2,
   "metadata": {},
   "outputs": [],
   "source": [
    "import numpy as np"
   ]
  },
  {
   "cell_type": "code",
   "execution_count": 3,
   "metadata": {},
   "outputs": [
    {
     "name": "stdout",
     "output_type": "stream",
     "text": [
      "[ 0  1  2  3  4  5  6  7  8  9 10 11 12 13 14]\n"
     ]
    }
   ],
   "source": [
    "#Function of Numpy Arrays - arange()\n",
    "\n",
    "A= np.arange(15)\n",
    "print(A)"
   ]
  },
  {
   "cell_type": "code",
   "execution_count": 4,
   "metadata": {},
   "outputs": [
    {
     "name": "stdout",
     "output_type": "stream",
     "text": [
      "[5 6 7 8 9]\n"
     ]
    }
   ],
   "source": [
    "B= np.arange(5, 10)\n",
    "print(B)"
   ]
  },
  {
   "cell_type": "code",
   "execution_count": 5,
   "metadata": {},
   "outputs": [
    {
     "name": "stdout",
     "output_type": "stream",
     "text": [
      "[5 7 9]\n"
     ]
    }
   ],
   "source": [
    "C= np.arange(5,10,2)\n",
    "print(C)"
   ]
  },
  {
   "cell_type": "code",
   "execution_count": 6,
   "metadata": {},
   "outputs": [
    {
     "name": "stdout",
     "output_type": "stream",
     "text": [
      "[0.         1.         1.41421356 1.73205081 2.         2.23606798\n",
      " 2.44948974 2.64575131 2.82842712 3.         3.16227766 3.31662479\n",
      " 3.46410162 3.60555128 3.74165739]\n"
     ]
    }
   ],
   "source": [
    "#Function of Numpy Arrays - sqrt()\n",
    "\n",
    "D= np.sqrt(A)\n",
    "print(D)"
   ]
  },
  {
   "cell_type": "code",
   "execution_count": 7,
   "metadata": {},
   "outputs": [
    {
     "name": "stdout",
     "output_type": "stream",
     "text": [
      "[1.00000000e+00 2.71828183e+00 7.38905610e+00 2.00855369e+01\n",
      " 5.45981500e+01 1.48413159e+02 4.03428793e+02 1.09663316e+03\n",
      " 2.98095799e+03 8.10308393e+03 2.20264658e+04 5.98741417e+04\n",
      " 1.62754791e+05 4.42413392e+05 1.20260428e+06]\n"
     ]
    }
   ],
   "source": [
    "#Function of Numpy Arrays - exp()\n",
    "\n",
    "E= np.exp(A)\n",
    "print(E)"
   ]
  },
  {
   "cell_type": "code",
   "execution_count": 9,
   "metadata": {},
   "outputs": [
    {
     "name": "stdout",
     "output_type": "stream",
     "text": [
      "[-1.10485596  0.1576654   0.41301919 -0.19311083  1.51621386] \n",
      "\n",
      "[[ 0.50273973  0.84686367  0.40456967  0.34830885  1.16942311]\n",
      " [-1.39793719 -0.98408966 -0.27836701  2.00444924 -0.25829396]\n",
      " [-1.68198646  2.03245723  0.71462312  0.62212081 -1.28268707]\n",
      " [ 1.88014113  1.3990372  -1.43009706  0.05101544  0.60716431]\n",
      " [ 0.59263724  0.23754571 -0.3027718   0.93509845  0.04891617]]\n"
     ]
    }
   ],
   "source": [
    "#Function of Numpy Arrays - random()\n",
    "\n",
    "F= np.random.randn(5)\n",
    "print(F,\"\\n\")\n",
    "\n",
    "G= np.random.randn(5,5)\n",
    "print(G)"
   ]
  },
  {
   "cell_type": "code",
   "execution_count": 10,
   "metadata": {},
   "outputs": [
    {
     "name": "stdout",
     "output_type": "stream",
     "text": [
      "[ 0  1  2  3  4  5  6  7  8  9 10 11 12 13 14] \n",
      "\n",
      "[0.         1.         1.41421356 1.73205081 2.         2.23606798\n",
      " 2.44948974 2.64575131 2.82842712 3.         3.16227766 3.31662479\n",
      " 3.46410162 3.60555128 3.74165739] \n",
      "\n",
      "[ 0.          2.          3.41421356  4.73205081  6.          7.23606798\n",
      "  8.44948974  9.64575131 10.82842712 12.         13.16227766 14.31662479\n",
      " 15.46410162 16.60555128 17.74165739]\n"
     ]
    }
   ],
   "source": [
    "#Function of Numpy Arrays - add()\n",
    "print(A,\"\\n\")\n",
    "print(D, \"\\n\")\n",
    "G= np.add(A,D)\n",
    "print(G)"
   ]
  },
  {
   "cell_type": "code",
   "execution_count": 11,
   "metadata": {},
   "outputs": [
    {
     "name": "stdout",
     "output_type": "stream",
     "text": [
      "[ 1  6  8 10]\n"
     ]
    }
   ],
   "source": [
    "#Function of Numpy Arrays - maximum()\n",
    "\n",
    "A= np.array([1,5,7,10])\n",
    "B= np.array([0, 6, 8, 9])\n",
    "H= np.maximum(A, B)\n",
    "print(H)"
   ]
  },
  {
   "cell_type": "code",
   "execution_count": null,
   "metadata": {},
   "outputs": [],
   "source": []
  }
 ],
 "metadata": {
  "kernelspec": {
   "display_name": "Python 3",
   "language": "python",
   "name": "python3"
  },
  "language_info": {
   "codemirror_mode": {
    "name": "ipython",
    "version": 3
   },
   "file_extension": ".py",
   "mimetype": "text/x-python",
   "name": "python",
   "nbconvert_exporter": "python",
   "pygments_lexer": "ipython3",
   "version": "3.8.2"
  }
 },
 "nbformat": 4,
 "nbformat_minor": 4
}
