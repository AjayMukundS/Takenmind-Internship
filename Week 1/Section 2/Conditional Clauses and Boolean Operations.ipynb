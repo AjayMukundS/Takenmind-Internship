{
 "cells": [
  {
   "cell_type": "code",
   "execution_count": 1,
   "metadata": {},
   "outputs": [],
   "source": [
    "#Agenda\n",
    "#Populate a list based on conditional values\n",
    "#Disadvantages\n",
    "#Using np.where()\n",
    "#Standard functionss in numpy- sum, sum(0), mean(), std(), var()\n",
    "#Logiical AND, OR Operation- any(), all()\n",
    "#sort() function\n",
    "#unique()\n",
    "#in1d()"
   ]
  },
  {
   "cell_type": "code",
   "execution_count": 2,
   "metadata": {},
   "outputs": [],
   "source": [
    "import numpy as np"
   ]
  },
  {
   "cell_type": "code",
   "execution_count": 3,
   "metadata": {},
   "outputs": [
    {
     "name": "stdout",
     "output_type": "stream",
     "text": [
      "[100, 400, 20, 25]\n"
     ]
    }
   ],
   "source": [
    "#Populate a list based on conditional values\n",
    "\n",
    "x= np.array([100,400,-50,-40]) #each element called a\n",
    "y= np.array([10,15,20,25]) #each element called b\n",
    "condition= np.array([True, True, False, False]) #each element called cond\n",
    "\n",
    "z= [a if cond else b for a,cond,b in zip(x,condition,y)]\n",
    "print(z)"
   ]
  },
  {
   "cell_type": "code",
   "execution_count": 4,
   "metadata": {},
   "outputs": [],
   "source": [
    "#Disadvantages\n",
    "#    Very tedious"
   ]
  },
  {
   "cell_type": "code",
   "execution_count": 5,
   "metadata": {},
   "outputs": [
    {
     "name": "stdout",
     "output_type": "stream",
     "text": [
      "[100 400  20  25]\n"
     ]
    }
   ],
   "source": [
    "#Using np.where(condtion, values for true, values for false)\n",
    "\n",
    "z2= np.where(condition, x, y)\n",
    "print(z2)"
   ]
  },
  {
   "cell_type": "code",
   "execution_count": 6,
   "metadata": {},
   "outputs": [
    {
     "name": "stdout",
     "output_type": "stream",
     "text": [
      "[100 400  20  25]\n"
     ]
    }
   ],
   "source": [
    "z3= np.where(x> 0, x, y)\n",
    "print(z2)"
   ]
  },
  {
   "cell_type": "code",
   "execution_count": 7,
   "metadata": {},
   "outputs": [
    {
     "name": "stdout",
     "output_type": "stream",
     "text": [
      "410\n"
     ]
    }
   ],
   "source": [
    "#Standard functionss in numpy- sum, sum(0), mean(), std(), var()\n",
    "\n",
    "print(x.sum())"
   ]
  },
  {
   "cell_type": "code",
   "execution_count": 8,
   "metadata": {},
   "outputs": [
    {
     "name": "stdout",
     "output_type": "stream",
     "text": [
      "[[1 2]\n",
      " [3 4]]\n"
     ]
    }
   ],
   "source": [
    "x2= np.array([[1,2], [3,4]])\n",
    "print(x2)"
   ]
  },
  {
   "cell_type": "code",
   "execution_count": 9,
   "metadata": {},
   "outputs": [
    {
     "name": "stdout",
     "output_type": "stream",
     "text": [
      "[4 6]\n"
     ]
    }
   ],
   "source": [
    "print(x2.sum(0)) #Sum along the columns"
   ]
  },
  {
   "cell_type": "code",
   "execution_count": 10,
   "metadata": {},
   "outputs": [
    {
     "name": "stdout",
     "output_type": "stream",
     "text": [
      "102.5\n",
      "181.71062159378576\n",
      "33018.75\n"
     ]
    }
   ],
   "source": [
    "print(x.mean())\n",
    "print(x.std())\n",
    "print(x.var())"
   ]
  },
  {
   "cell_type": "code",
   "execution_count": 11,
   "metadata": {},
   "outputs": [
    {
     "name": "stdout",
     "output_type": "stream",
     "text": [
      "True\n",
      "False\n"
     ]
    }
   ],
   "source": [
    "#Logiical AND, OR Operation- any(), all()\n",
    "\n",
    "condition2= np.array([True, False, True])\n",
    "\n",
    "#OR\n",
    "print(condition2.any())\n",
    "\n",
    "#AND\n",
    "print(condition2.all())"
   ]
  },
  {
   "cell_type": "code",
   "execution_count": 12,
   "metadata": {},
   "outputs": [
    {
     "name": "stdout",
     "output_type": "stream",
     "text": [
      "[ 1  2 10  6  4  3]\n",
      "[ 1  2  3  4  6 10]\n"
     ]
    }
   ],
   "source": [
    "#sort() function\n",
    "\n",
    "unsorted= np.array([1,2,10,6,4,3])\n",
    "print(unsorted)\n",
    "unsorted.sort()\n",
    "print(unsorted)"
   ]
  },
  {
   "cell_type": "code",
   "execution_count": 13,
   "metadata": {},
   "outputs": [
    {
     "name": "stdout",
     "output_type": "stream",
     "text": [
      "['gas' 'liquid' 'solid']\n"
     ]
    }
   ],
   "source": [
    "#unique()\n",
    "\n",
    "arr2= np.array(['liquid', 'liquid', 'liquid', 'gas', 'gas', 'solid', 'solid'])\n",
    "print(np.unique(arr2))"
   ]
  },
  {
   "cell_type": "code",
   "execution_count": 14,
   "metadata": {},
   "outputs": [
    {
     "name": "stdout",
     "output_type": "stream",
     "text": [
      "[ True  True False]\n"
     ]
    }
   ],
   "source": [
    "#in1d() => used to check whether list of elements are present or not\n",
    "\n",
    "print(np.in1d(['solid', 'liquid', 'plasma'], arr2))"
   ]
  }
 ],
 "metadata": {
  "kernelspec": {
   "display_name": "Python 3",
   "language": "python",
   "name": "python3"
  },
  "language_info": {
   "codemirror_mode": {
    "name": "ipython",
    "version": 3
   },
   "file_extension": ".py",
   "mimetype": "text/x-python",
   "name": "python",
   "nbconvert_exporter": "python",
   "pygments_lexer": "ipython3",
   "version": "3.8.2"
  }
 },
 "nbformat": 4,
 "nbformat_minor": 4
}
