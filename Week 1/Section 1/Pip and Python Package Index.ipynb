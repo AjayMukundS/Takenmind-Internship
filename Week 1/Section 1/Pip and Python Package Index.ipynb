{
 "cells": [
  {
   "cell_type": "code",
   "execution_count": 2,
   "metadata": {},
   "outputs": [
    {
     "name": "stdout",
     "output_type": "stream",
     "text": [
      "Requirement already satisfied: pandas in c:\\users\\ajaym\\appdata\\local\\programs\\python\\python38\\lib\\site-packages (1.1.4)\n",
      "Requirement already satisfied: numpy>=1.15.4 in c:\\users\\ajaym\\appdata\\local\\programs\\python\\python38\\lib\\site-packages (from pandas) (1.19.3)\n",
      "Requirement already satisfied: pytz>=2017.2 in c:\\users\\ajaym\\appdata\\local\\programs\\python\\python38\\lib\\site-packages (from pandas) (2020.1)\n",
      "Requirement already satisfied: python-dateutil>=2.7.3 in c:\\users\\ajaym\\appdata\\local\\programs\\python\\python38\\lib\\site-packages (from pandas) (2.8.1)\n",
      "Requirement already satisfied: six>=1.5 in c:\\users\\ajaym\\appdata\\local\\programs\\python\\python38\\lib\\site-packages (from python-dateutil>=2.7.3->pandas) (1.15.0)\n"
     ]
    }
   ],
   "source": [
    "!pip install pandas"
   ]
  },
  {
   "cell_type": "code",
   "execution_count": 3,
   "metadata": {},
   "outputs": [
    {
     "name": "stdout",
     "output_type": "stream",
     "text": [
      "C:\\Users\\ajaym\\Desktop\\Internship\\TakenMind Internship\n"
     ]
    }
   ],
   "source": [
    "!cd"
   ]
  },
  {
   "cell_type": "code",
   "execution_count": 5,
   "metadata": {},
   "outputs": [],
   "source": [
    "!pip freeze > AllPackages2.txt"
   ]
  },
  {
   "cell_type": "code",
   "execution_count": 6,
   "metadata": {},
   "outputs": [
    {
     "name": "stdout",
     "output_type": "stream",
     "text": [
      " Volume in drive C has no label.\n",
      " Volume Serial Number is 8C76-95FD\n",
      "\n",
      " Directory of C:\\Users\\ajaym\\Desktop\\Internship\\TakenMind Internship\n",
      "\n",
      "02-11-2020  11:10    <DIR>          .\n",
      "02-11-2020  11:10    <DIR>          ..\n",
      "02-11-2020  11:08    <DIR>          .ipynb_checkpoints\n",
      "02-11-2020  11:02               927 AllPackages.txt\n",
      "02-11-2020  11:09               927 AllPackages2.txt\n",
      "02-11-2020  10:29             1,129 Exploring Jupyter Notebook.ipynb\n",
      "02-11-2020  11:10             2,043 Untitled.ipynb\n",
      "               4 File(s)          5,026 bytes\n",
      "               3 Dir(s)  15,121,637,376 bytes free\n"
     ]
    }
   ],
   "source": [
    "!dir"
   ]
  }
 ],
 "metadata": {
  "kernelspec": {
   "display_name": "Python 3",
   "language": "python",
   "name": "python3"
  },
  "language_info": {
   "codemirror_mode": {
    "name": "ipython",
    "version": 3
   },
   "file_extension": ".py",
   "mimetype": "text/x-python",
   "name": "python",
   "nbconvert_exporter": "python",
   "pygments_lexer": "ipython3",
   "version": "3.8.2"
  }
 },
 "nbformat": 4,
 "nbformat_minor": 4
}
