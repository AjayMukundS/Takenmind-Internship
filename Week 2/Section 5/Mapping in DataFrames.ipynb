{
 "cells": [
  {
   "cell_type": "code",
   "execution_count": 1,
   "metadata": {},
   "outputs": [],
   "source": [
    "#Agenda\n",
    "#What is Mapping?\n",
    "#Use Mapping in DataFrames"
   ]
  },
  {
   "cell_type": "code",
   "execution_count": 2,
   "metadata": {},
   "outputs": [],
   "source": [
    "import pandas as pd\n",
    "from pandas import DataFrame"
   ]
  },
  {
   "cell_type": "code",
   "execution_count": 3,
   "metadata": {},
   "outputs": [
    {
     "name": "stdout",
     "output_type": "stream",
     "text": [
      "   country  GDP\n",
      "0      USA   19\n",
      "1    China   12\n",
      "2    Japan    4\n",
      "3  Germany    3\n",
      "4    India    2\n"
     ]
    }
   ],
   "source": [
    "df= DataFrame({\n",
    "    'country': ['USA', 'China', 'Japan', 'Germany', 'India'],\n",
    "    'GDP': [19,12,4,3,2]\n",
    "})\n",
    "print(df)"
   ]
  },
  {
   "cell_type": "code",
   "execution_count": 4,
   "metadata": {},
   "outputs": [
    {
     "name": "stdout",
     "output_type": "stream",
     "text": [
      "{'USA': 325, 'China': 1421, 'Japan': 127, 'Germany': 82, 'India': 1338}\n"
     ]
    }
   ],
   "source": [
    "population_map= {\n",
    "    'USA' : 325,\n",
    "    'China': 1421,\n",
    "    'Japan': 127,\n",
    "    'Germany': 82,\n",
    "    'India': 1338\n",
    "}\n",
    "print(population_map)"
   ]
  },
  {
   "cell_type": "code",
   "execution_count": 5,
   "metadata": {},
   "outputs": [
    {
     "name": "stdout",
     "output_type": "stream",
     "text": [
      "   country  GDP  Population\n",
      "0      USA   19         325\n",
      "1    China   12        1421\n",
      "2    Japan    4         127\n",
      "3  Germany    3          82\n",
      "4    India    2        1338\n"
     ]
    }
   ],
   "source": [
    "df['Population']= df['country'].map(population_map)\n",
    "print(df)"
   ]
  }
 ],
 "metadata": {
  "kernelspec": {
   "display_name": "Python 3",
   "language": "python",
   "name": "python3"
  },
  "language_info": {
   "codemirror_mode": {
    "name": "ipython",
    "version": 3
   },
   "file_extension": ".py",
   "mimetype": "text/x-python",
   "name": "python",
   "nbconvert_exporter": "python",
   "pygments_lexer": "ipython3",
   "version": "3.8.2"
  }
 },
 "nbformat": 4,
 "nbformat_minor": 4
}
