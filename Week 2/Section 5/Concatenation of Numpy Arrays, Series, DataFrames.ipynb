{
 "cells": [
  {
   "cell_type": "code",
   "execution_count": 1,
   "metadata": {},
   "outputs": [],
   "source": [
    "#Agenda\n",
    "#What is Concatenation\n",
    "#Concatenation of Numpy arrays\n",
    "#Concatenation of Pandas Series\n",
    "#Concatenation of Pandas DataFrames"
   ]
  },
  {
   "cell_type": "code",
   "execution_count": 2,
   "metadata": {},
   "outputs": [],
   "source": [
    "import numpy as np\n",
    "import pandas as pd\n",
    "from pandas import Series, DataFrame"
   ]
  },
  {
   "cell_type": "code",
   "execution_count": 3,
   "metadata": {},
   "outputs": [
    {
     "name": "stdout",
     "output_type": "stream",
     "text": [
      "[[ 0  1  2  3  4]\n",
      " [ 5  6  7  8  9]\n",
      " [10 11 12 13 14]\n",
      " [15 16 17 18 19]\n",
      " [20 21 22 23 24]]\n",
      "[[-1.45119164 -0.2180474   0.50112883 -1.12957967  1.32004678]\n",
      " [-0.48878863  0.97453499  2.00845705  0.69196609  0.94460828]\n",
      " [-0.10927602  0.45811422 -0.85928242  0.31057118  0.69356463]\n",
      " [-1.19462062  0.52607203 -1.42268197 -0.82891358  1.30518231]\n",
      " [ 0.7016282  -0.19730598  0.97203616 -1.24366171  0.30115182]]\n"
     ]
    }
   ],
   "source": [
    "#Concatenation of Numpy arrays\n",
    "A1= np.arange(25).reshape(5,5)\n",
    "B1= np.random.randn(25).reshape(5,5)\n",
    "print(A1)\n",
    "print(B1)"
   ]
  },
  {
   "cell_type": "code",
   "execution_count": 4,
   "metadata": {},
   "outputs": [
    {
     "data": {
      "text/plain": [
       "array([[ 0.        ,  1.        ,  2.        ,  3.        ,  4.        ,\n",
       "        -1.45119164, -0.2180474 ,  0.50112883, -1.12957967,  1.32004678],\n",
       "       [ 5.        ,  6.        ,  7.        ,  8.        ,  9.        ,\n",
       "        -0.48878863,  0.97453499,  2.00845705,  0.69196609,  0.94460828],\n",
       "       [10.        , 11.        , 12.        , 13.        , 14.        ,\n",
       "        -0.10927602,  0.45811422, -0.85928242,  0.31057118,  0.69356463],\n",
       "       [15.        , 16.        , 17.        , 18.        , 19.        ,\n",
       "        -1.19462062,  0.52607203, -1.42268197, -0.82891358,  1.30518231],\n",
       "       [20.        , 21.        , 22.        , 23.        , 24.        ,\n",
       "         0.7016282 , -0.19730598,  0.97203616, -1.24366171,  0.30115182]])"
      ]
     },
     "execution_count": 4,
     "metadata": {},
     "output_type": "execute_result"
    }
   ],
   "source": [
    "np.concatenate([A1, B1], axis= 1)"
   ]
  },
  {
   "cell_type": "code",
   "execution_count": 5,
   "metadata": {},
   "outputs": [
    {
     "data": {
      "text/plain": [
       "array([[ 0.        ,  1.        ,  2.        ,  3.        ,  4.        ],\n",
       "       [ 5.        ,  6.        ,  7.        ,  8.        ,  9.        ],\n",
       "       [10.        , 11.        , 12.        , 13.        , 14.        ],\n",
       "       [15.        , 16.        , 17.        , 18.        , 19.        ],\n",
       "       [20.        , 21.        , 22.        , 23.        , 24.        ],\n",
       "       [-1.45119164, -0.2180474 ,  0.50112883, -1.12957967,  1.32004678],\n",
       "       [-0.48878863,  0.97453499,  2.00845705,  0.69196609,  0.94460828],\n",
       "       [-0.10927602,  0.45811422, -0.85928242,  0.31057118,  0.69356463],\n",
       "       [-1.19462062,  0.52607203, -1.42268197, -0.82891358,  1.30518231],\n",
       "       [ 0.7016282 , -0.19730598,  0.97203616, -1.24366171,  0.30115182]])"
      ]
     },
     "execution_count": 5,
     "metadata": {},
     "output_type": "execute_result"
    }
   ],
   "source": [
    "np.concatenate([A1, B1], axis= 0)"
   ]
  },
  {
   "cell_type": "code",
   "execution_count": 6,
   "metadata": {},
   "outputs": [
    {
     "name": "stdout",
     "output_type": "stream",
     "text": [
      "A    100\n",
      "B    200\n",
      "C    300\n",
      "dtype: int64\n",
      "D    400\n",
      "E    500\n",
      "dtype: int64\n"
     ]
    }
   ],
   "source": [
    "#Concatenation of Pandas Series\n",
    "s1= Series([100,200,300], index= list(\"ABC\"))\n",
    "s2= Series([400,500], index= list(\"DE\"))\n",
    "print(s1)\n",
    "print(s2)"
   ]
  },
  {
   "cell_type": "code",
   "execution_count": 7,
   "metadata": {},
   "outputs": [
    {
     "data": {
      "text/plain": [
       "A    100\n",
       "B    200\n",
       "C    300\n",
       "D    400\n",
       "E    500\n",
       "dtype: int64"
      ]
     },
     "execution_count": 7,
     "metadata": {},
     "output_type": "execute_result"
    }
   ],
   "source": [
    "pd.concat([s1, s2])"
   ]
  },
  {
   "cell_type": "code",
   "execution_count": 8,
   "metadata": {},
   "outputs": [
    {
     "data": {
      "text/html": [
       "<div>\n",
       "<style scoped>\n",
       "    .dataframe tbody tr th:only-of-type {\n",
       "        vertical-align: middle;\n",
       "    }\n",
       "\n",
       "    .dataframe tbody tr th {\n",
       "        vertical-align: top;\n",
       "    }\n",
       "\n",
       "    .dataframe thead th {\n",
       "        text-align: right;\n",
       "    }\n",
       "</style>\n",
       "<table border=\"1\" class=\"dataframe\">\n",
       "  <thead>\n",
       "    <tr style=\"text-align: right;\">\n",
       "      <th></th>\n",
       "      <th>0</th>\n",
       "      <th>1</th>\n",
       "    </tr>\n",
       "  </thead>\n",
       "  <tbody>\n",
       "    <tr>\n",
       "      <th>A</th>\n",
       "      <td>100.0</td>\n",
       "      <td>NaN</td>\n",
       "    </tr>\n",
       "    <tr>\n",
       "      <th>B</th>\n",
       "      <td>200.0</td>\n",
       "      <td>NaN</td>\n",
       "    </tr>\n",
       "    <tr>\n",
       "      <th>C</th>\n",
       "      <td>300.0</td>\n",
       "      <td>NaN</td>\n",
       "    </tr>\n",
       "    <tr>\n",
       "      <th>D</th>\n",
       "      <td>NaN</td>\n",
       "      <td>400.0</td>\n",
       "    </tr>\n",
       "    <tr>\n",
       "      <th>E</th>\n",
       "      <td>NaN</td>\n",
       "      <td>500.0</td>\n",
       "    </tr>\n",
       "  </tbody>\n",
       "</table>\n",
       "</div>"
      ],
      "text/plain": [
       "       0      1\n",
       "A  100.0    NaN\n",
       "B  200.0    NaN\n",
       "C  300.0    NaN\n",
       "D    NaN  400.0\n",
       "E    NaN  500.0"
      ]
     },
     "execution_count": 8,
     "metadata": {},
     "output_type": "execute_result"
    }
   ],
   "source": [
    "pd.concat([s1,s2], axis= 1)"
   ]
  },
  {
   "cell_type": "code",
   "execution_count": 9,
   "metadata": {},
   "outputs": [
    {
     "name": "stdout",
     "output_type": "stream",
     "text": [
      "          A         B         C\n",
      "0 -1.608966  1.666608  0.766688\n",
      "1 -1.745880  0.358967  0.974245\n",
      "2  1.819587  0.776130  1.311916\n",
      "3 -0.134004 -0.177964  0.054900\n",
      "   A  B  D\n",
      "0  0  1  2\n",
      "1  3  4  5\n",
      "2  6  7  8\n"
     ]
    }
   ],
   "source": [
    "#Concatenation of Pandas DataFrames\n",
    "df1= DataFrame(np.random.randn(12).reshape(4,3), columns= list(\"ABC\"))\n",
    "df2= DataFrame(np.arange(9).reshape(3,3), columns= list(\"ABD\"))\n",
    "print(df1)\n",
    "print(df2)"
   ]
  },
  {
   "cell_type": "code",
   "execution_count": 10,
   "metadata": {},
   "outputs": [
    {
     "data": {
      "text/html": [
       "<div>\n",
       "<style scoped>\n",
       "    .dataframe tbody tr th:only-of-type {\n",
       "        vertical-align: middle;\n",
       "    }\n",
       "\n",
       "    .dataframe tbody tr th {\n",
       "        vertical-align: top;\n",
       "    }\n",
       "\n",
       "    .dataframe thead th {\n",
       "        text-align: right;\n",
       "    }\n",
       "</style>\n",
       "<table border=\"1\" class=\"dataframe\">\n",
       "  <thead>\n",
       "    <tr style=\"text-align: right;\">\n",
       "      <th></th>\n",
       "      <th>A</th>\n",
       "      <th>B</th>\n",
       "      <th>C</th>\n",
       "      <th>D</th>\n",
       "    </tr>\n",
       "  </thead>\n",
       "  <tbody>\n",
       "    <tr>\n",
       "      <th>0</th>\n",
       "      <td>-1.608966</td>\n",
       "      <td>1.666608</td>\n",
       "      <td>0.766688</td>\n",
       "      <td>NaN</td>\n",
       "    </tr>\n",
       "    <tr>\n",
       "      <th>1</th>\n",
       "      <td>-1.745880</td>\n",
       "      <td>0.358967</td>\n",
       "      <td>0.974245</td>\n",
       "      <td>NaN</td>\n",
       "    </tr>\n",
       "    <tr>\n",
       "      <th>2</th>\n",
       "      <td>1.819587</td>\n",
       "      <td>0.776130</td>\n",
       "      <td>1.311916</td>\n",
       "      <td>NaN</td>\n",
       "    </tr>\n",
       "    <tr>\n",
       "      <th>3</th>\n",
       "      <td>-0.134004</td>\n",
       "      <td>-0.177964</td>\n",
       "      <td>0.054900</td>\n",
       "      <td>NaN</td>\n",
       "    </tr>\n",
       "    <tr>\n",
       "      <th>0</th>\n",
       "      <td>0.000000</td>\n",
       "      <td>1.000000</td>\n",
       "      <td>NaN</td>\n",
       "      <td>2.0</td>\n",
       "    </tr>\n",
       "    <tr>\n",
       "      <th>1</th>\n",
       "      <td>3.000000</td>\n",
       "      <td>4.000000</td>\n",
       "      <td>NaN</td>\n",
       "      <td>5.0</td>\n",
       "    </tr>\n",
       "    <tr>\n",
       "      <th>2</th>\n",
       "      <td>6.000000</td>\n",
       "      <td>7.000000</td>\n",
       "      <td>NaN</td>\n",
       "      <td>8.0</td>\n",
       "    </tr>\n",
       "  </tbody>\n",
       "</table>\n",
       "</div>"
      ],
      "text/plain": [
       "          A         B         C    D\n",
       "0 -1.608966  1.666608  0.766688  NaN\n",
       "1 -1.745880  0.358967  0.974245  NaN\n",
       "2  1.819587  0.776130  1.311916  NaN\n",
       "3 -0.134004 -0.177964  0.054900  NaN\n",
       "0  0.000000  1.000000       NaN  2.0\n",
       "1  3.000000  4.000000       NaN  5.0\n",
       "2  6.000000  7.000000       NaN  8.0"
      ]
     },
     "execution_count": 10,
     "metadata": {},
     "output_type": "execute_result"
    }
   ],
   "source": [
    "pd.concat([df1, df2])"
   ]
  },
  {
   "cell_type": "code",
   "execution_count": 11,
   "metadata": {},
   "outputs": [
    {
     "data": {
      "text/html": [
       "<div>\n",
       "<style scoped>\n",
       "    .dataframe tbody tr th:only-of-type {\n",
       "        vertical-align: middle;\n",
       "    }\n",
       "\n",
       "    .dataframe tbody tr th {\n",
       "        vertical-align: top;\n",
       "    }\n",
       "\n",
       "    .dataframe thead th {\n",
       "        text-align: right;\n",
       "    }\n",
       "</style>\n",
       "<table border=\"1\" class=\"dataframe\">\n",
       "  <thead>\n",
       "    <tr style=\"text-align: right;\">\n",
       "      <th></th>\n",
       "      <th>A</th>\n",
       "      <th>B</th>\n",
       "      <th>C</th>\n",
       "      <th>D</th>\n",
       "    </tr>\n",
       "  </thead>\n",
       "  <tbody>\n",
       "    <tr>\n",
       "      <th>0</th>\n",
       "      <td>-1.608966</td>\n",
       "      <td>1.666608</td>\n",
       "      <td>0.766688</td>\n",
       "      <td>NaN</td>\n",
       "    </tr>\n",
       "    <tr>\n",
       "      <th>1</th>\n",
       "      <td>-1.745880</td>\n",
       "      <td>0.358967</td>\n",
       "      <td>0.974245</td>\n",
       "      <td>NaN</td>\n",
       "    </tr>\n",
       "    <tr>\n",
       "      <th>2</th>\n",
       "      <td>1.819587</td>\n",
       "      <td>0.776130</td>\n",
       "      <td>1.311916</td>\n",
       "      <td>NaN</td>\n",
       "    </tr>\n",
       "    <tr>\n",
       "      <th>3</th>\n",
       "      <td>-0.134004</td>\n",
       "      <td>-0.177964</td>\n",
       "      <td>0.054900</td>\n",
       "      <td>NaN</td>\n",
       "    </tr>\n",
       "    <tr>\n",
       "      <th>4</th>\n",
       "      <td>0.000000</td>\n",
       "      <td>1.000000</td>\n",
       "      <td>NaN</td>\n",
       "      <td>2.0</td>\n",
       "    </tr>\n",
       "    <tr>\n",
       "      <th>5</th>\n",
       "      <td>3.000000</td>\n",
       "      <td>4.000000</td>\n",
       "      <td>NaN</td>\n",
       "      <td>5.0</td>\n",
       "    </tr>\n",
       "    <tr>\n",
       "      <th>6</th>\n",
       "      <td>6.000000</td>\n",
       "      <td>7.000000</td>\n",
       "      <td>NaN</td>\n",
       "      <td>8.0</td>\n",
       "    </tr>\n",
       "  </tbody>\n",
       "</table>\n",
       "</div>"
      ],
      "text/plain": [
       "          A         B         C    D\n",
       "0 -1.608966  1.666608  0.766688  NaN\n",
       "1 -1.745880  0.358967  0.974245  NaN\n",
       "2  1.819587  0.776130  1.311916  NaN\n",
       "3 -0.134004 -0.177964  0.054900  NaN\n",
       "4  0.000000  1.000000       NaN  2.0\n",
       "5  3.000000  4.000000       NaN  5.0\n",
       "6  6.000000  7.000000       NaN  8.0"
      ]
     },
     "execution_count": 11,
     "metadata": {},
     "output_type": "execute_result"
    }
   ],
   "source": [
    "pd.concat([df1, df2], ignore_index= True)"
   ]
  },
  {
   "cell_type": "code",
   "execution_count": 12,
   "metadata": {},
   "outputs": [
    {
     "data": {
      "text/html": [
       "<div>\n",
       "<style scoped>\n",
       "    .dataframe tbody tr th:only-of-type {\n",
       "        vertical-align: middle;\n",
       "    }\n",
       "\n",
       "    .dataframe tbody tr th {\n",
       "        vertical-align: top;\n",
       "    }\n",
       "\n",
       "    .dataframe thead th {\n",
       "        text-align: right;\n",
       "    }\n",
       "</style>\n",
       "<table border=\"1\" class=\"dataframe\">\n",
       "  <thead>\n",
       "    <tr style=\"text-align: right;\">\n",
       "      <th></th>\n",
       "      <th>A</th>\n",
       "      <th>B</th>\n",
       "      <th>C</th>\n",
       "      <th>A</th>\n",
       "      <th>B</th>\n",
       "      <th>D</th>\n",
       "    </tr>\n",
       "  </thead>\n",
       "  <tbody>\n",
       "    <tr>\n",
       "      <th>0</th>\n",
       "      <td>-1.608966</td>\n",
       "      <td>1.666608</td>\n",
       "      <td>0.766688</td>\n",
       "      <td>0.0</td>\n",
       "      <td>1.0</td>\n",
       "      <td>2.0</td>\n",
       "    </tr>\n",
       "    <tr>\n",
       "      <th>1</th>\n",
       "      <td>-1.745880</td>\n",
       "      <td>0.358967</td>\n",
       "      <td>0.974245</td>\n",
       "      <td>3.0</td>\n",
       "      <td>4.0</td>\n",
       "      <td>5.0</td>\n",
       "    </tr>\n",
       "    <tr>\n",
       "      <th>2</th>\n",
       "      <td>1.819587</td>\n",
       "      <td>0.776130</td>\n",
       "      <td>1.311916</td>\n",
       "      <td>6.0</td>\n",
       "      <td>7.0</td>\n",
       "      <td>8.0</td>\n",
       "    </tr>\n",
       "    <tr>\n",
       "      <th>3</th>\n",
       "      <td>-0.134004</td>\n",
       "      <td>-0.177964</td>\n",
       "      <td>0.054900</td>\n",
       "      <td>NaN</td>\n",
       "      <td>NaN</td>\n",
       "      <td>NaN</td>\n",
       "    </tr>\n",
       "  </tbody>\n",
       "</table>\n",
       "</div>"
      ],
      "text/plain": [
       "          A         B         C    A    B    D\n",
       "0 -1.608966  1.666608  0.766688  0.0  1.0  2.0\n",
       "1 -1.745880  0.358967  0.974245  3.0  4.0  5.0\n",
       "2  1.819587  0.776130  1.311916  6.0  7.0  8.0\n",
       "3 -0.134004 -0.177964  0.054900  NaN  NaN  NaN"
      ]
     },
     "execution_count": 12,
     "metadata": {},
     "output_type": "execute_result"
    }
   ],
   "source": [
    "pd.concat([df1, df2], axis= 1)"
   ]
  }
 ],
 "metadata": {
  "kernelspec": {
   "display_name": "Python 3",
   "language": "python",
   "name": "python3"
  },
  "language_info": {
   "codemirror_mode": {
    "name": "ipython",
    "version": 3
   },
   "file_extension": ".py",
   "mimetype": "text/x-python",
   "name": "python",
   "nbconvert_exporter": "python",
   "pygments_lexer": "ipython3",
   "version": "3.8.2"
  }
 },
 "nbformat": 4,
 "nbformat_minor": 4
}
