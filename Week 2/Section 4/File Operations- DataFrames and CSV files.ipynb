{
 "cells": [
  {
   "cell_type": "code",
   "execution_count": 1,
   "metadata": {},
   "outputs": [],
   "source": [
    "#Agenda\n",
    "#Introduction to CSV files\n",
    "#Importing CSV files\n",
    "#read_table() function\n",
    "#Importing Partial rows\n",
    "#Dumping DataFrame to CSV file"
   ]
  },
  {
   "cell_type": "code",
   "execution_count": 2,
   "metadata": {},
   "outputs": [],
   "source": [
    "import numpy as np\n",
    "import pandas as pd\n",
    "from pandas import Series, DataFrame"
   ]
  },
  {
   "cell_type": "code",
   "execution_count": 3,
   "metadata": {},
   "outputs": [
    {
     "name": "stdout",
     "output_type": "stream",
     "text": [
      "  Company  Fleetsize  Revenue  Expenses  Profit\n",
      "0    Uber       6000      100        80      20\n",
      "1    Lyft      50000       90        50      40\n",
      "2    Grab      40000       80        60      20\n",
      "3   Gojek      30000       70        40      30\n",
      "4     Ola      20000       60        55       5\n"
     ]
    }
   ],
   "source": [
    "#Importing CSV files\n",
    "df1= pd.read_csv(\"cab_company.csv\")\n",
    "print(df1)"
   ]
  },
  {
   "cell_type": "code",
   "execution_count": 4,
   "metadata": {},
   "outputs": [
    {
     "name": "stdout",
     "output_type": "stream",
     "text": [
      "         0          1        2         3       4\n",
      "0  Company  Fleetsize  Revenue  Expenses  Profit\n",
      "1     Uber       6000      100        80      20\n",
      "2     Lyft      50000       90        50      40\n",
      "3     Grab      40000       80        60      20\n",
      "4    Gojek      30000       70        40      30\n",
      "5      Ola      20000       60        55       5\n"
     ]
    }
   ],
   "source": [
    "#Importing CSV files\n",
    "df2= pd.read_csv(\"cab_company.csv\", header= None)\n",
    "print(df2)"
   ]
  },
  {
   "cell_type": "code",
   "execution_count": 5,
   "metadata": {},
   "outputs": [
    {
     "name": "stdout",
     "output_type": "stream",
     "text": [
      "         0          1        2         3       4\n",
      "0  Company  Fleetsize  Revenue  Expenses  Profit\n",
      "1     Uber       6000      100        80      20\n",
      "2     Lyft      50000       90        50      40\n",
      "3     Grab      40000       80        60      20\n",
      "4    Gojek      30000       70        40      30\n",
      "5      Ola      20000       60        55       5\n"
     ]
    }
   ],
   "source": [
    "#read_table() function\n",
    "df3= pd.read_table(\"cab_company.csv\", sep= ',', header= None)\n",
    "print(df3)"
   ]
  },
  {
   "cell_type": "code",
   "execution_count": 6,
   "metadata": {},
   "outputs": [
    {
     "name": "stdout",
     "output_type": "stream",
     "text": [
      "  Company  Fleetsize  Revenue  Expenses  Profit\n",
      "0    Uber       6000      100        80      20\n",
      "1    Lyft      50000       90        50      40\n",
      "2    Grab      40000       80        60      20\n"
     ]
    }
   ],
   "source": [
    "#Importing Partial rows\n",
    "df4= pd.read_csv(\"cab_company.csv\", nrows= 3)\n",
    "print(df4)"
   ]
  },
  {
   "cell_type": "code",
   "execution_count": 7,
   "metadata": {},
   "outputs": [],
   "source": [
    "#Dumping DataFrame to CSV file\n",
    "df3.to_csv(\"output_companies1.csv\", sep=\",\")"
   ]
  },
  {
   "cell_type": "code",
   "execution_count": 8,
   "metadata": {},
   "outputs": [],
   "source": [
    "df3.to_csv(\"output_companies2.csv\", sep=\"!\")"
   ]
  },
  {
   "cell_type": "code",
   "execution_count": 9,
   "metadata": {},
   "outputs": [],
   "source": [
    "#Export Specific columns to a CSV file\n",
    "df3.to_csv('output_companies3.csv', columns= [0,1])"
   ]
  }
 ],
 "metadata": {
  "kernelspec": {
   "display_name": "Python 3",
   "language": "python",
   "name": "python3"
  },
  "language_info": {
   "codemirror_mode": {
    "name": "ipython",
    "version": 3
   },
   "file_extension": ".py",
   "mimetype": "text/x-python",
   "name": "python",
   "nbconvert_exporter": "python",
   "pygments_lexer": "ipython3",
   "version": "3.8.2"
  }
 },
 "nbformat": 4,
 "nbformat_minor": 4
}
