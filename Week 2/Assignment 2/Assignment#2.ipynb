{
 "cells": [
  {
   "cell_type": "code",
   "execution_count": 1,
   "metadata": {},
   "outputs": [],
   "source": [
    "#1. Create a single .xlsx file with 10 sheets inside filled with dummy data.\n",
    "#2. Read the .xlsx file using pandas\n",
    "#3. Export every single sheet of the .xlsx file as a .csv file. \n",
    "#(The Output should produce 10 .csv files that contains values of each sheet of .xlsx file respectively)"
   ]
  },
  {
   "cell_type": "code",
   "execution_count": 2,
   "metadata": {},
   "outputs": [],
   "source": [
    "import pandas as pd\n",
    "import xlrd\n",
    "import openpyxl"
   ]
  },
  {
   "cell_type": "code",
   "execution_count": 3,
   "metadata": {},
   "outputs": [],
   "source": [
    "excelfile= pd.ExcelFile('Input File.xlsx')"
   ]
  },
  {
   "cell_type": "code",
   "execution_count": 4,
   "metadata": {},
   "outputs": [],
   "source": [
    "df1= excelfile.parse('Sheet1')\n",
    "df2= excelfile.parse('Sheet2')\n",
    "df3= excelfile.parse('Sheet3')\n",
    "df4= excelfile.parse('Sheet4')\n",
    "df5= excelfile.parse('Sheet5')\n",
    "df6= excelfile.parse('Sheet6')\n",
    "df7= excelfile.parse('Sheet7')\n",
    "df8= excelfile.parse('Sheet8')\n",
    "df9= excelfile.parse('Sheet9')\n",
    "df10= excelfile.parse('Sheet10')"
   ]
  },
  {
   "cell_type": "code",
   "execution_count": 5,
   "metadata": {},
   "outputs": [],
   "source": [
    "df1.to_csv(\"output_sheet1.csv\", sep=\",\")\n",
    "df2.to_csv(\"output_sheet2.csv\", sep=\",\")\n",
    "df3.to_csv(\"output_sheet3.csv\", sep=\",\")\n",
    "df4.to_csv(\"output_sheet4.csv\", sep=\",\")\n",
    "df5.to_csv(\"output_sheet5.csv\", sep=\",\")\n",
    "df6.to_csv(\"output_sheet6.csv\", sep=\",\")\n",
    "df7.to_csv(\"output_sheet7.csv\", sep=\",\")\n",
    "df8.to_csv(\"output_sheet8.csv\", sep=\",\")\n",
    "df9.to_csv(\"output_sheet9.csv\", sep=\",\")\n",
    "df10.to_csv(\"output_sheet10.csv\", sep=\",\")"
   ]
  }
 ],
 "metadata": {
  "kernelspec": {
   "display_name": "Python 3",
   "language": "python",
   "name": "python3"
  },
  "language_info": {
   "codemirror_mode": {
    "name": "ipython",
    "version": 3
   },
   "file_extension": ".py",
   "mimetype": "text/x-python",
   "name": "python",
   "nbconvert_exporter": "python",
   "pygments_lexer": "ipython3",
   "version": "3.8.2"
  }
 },
 "nbformat": 4,
 "nbformat_minor": 4
}
